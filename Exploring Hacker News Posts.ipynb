{
 "cells": [
  {
   "cell_type": "markdown",
   "id": "c698d791",
   "metadata": {},
   "source": [
    "# Exploring Hacker News Posts\n",
    "## Goal: Analayze the data and answer the following 2 questions\n",
    "- Do Ask HN or Show HN receive more comments on average?\n",
    "- Do posts created at a certain time receive more comments on average?"
   ]
  },
  {
   "cell_type": "markdown",
   "id": "90bf38ec",
   "metadata": {},
   "source": [
    "### Printing first few rows of the dataset"
   ]
  },
  {
   "cell_type": "code",
   "execution_count": 1,
   "id": "e9f77dfe",
   "metadata": {},
   "outputs": [],
   "source": [
    "import pandas as pd\n",
    "import numpy as np\n",
    "import datetime as dt"
   ]
  },
  {
   "cell_type": "code",
   "execution_count": 2,
   "id": "e133a698",
   "metadata": {},
   "outputs": [
    {
     "data": {
      "text/html": [
       "<div>\n",
       "<style scoped>\n",
       "    .dataframe tbody tr th:only-of-type {\n",
       "        vertical-align: middle;\n",
       "    }\n",
       "\n",
       "    .dataframe tbody tr th {\n",
       "        vertical-align: top;\n",
       "    }\n",
       "\n",
       "    .dataframe thead th {\n",
       "        text-align: right;\n",
       "    }\n",
       "</style>\n",
       "<table border=\"1\" class=\"dataframe\">\n",
       "  <thead>\n",
       "    <tr style=\"text-align: right;\">\n",
       "      <th></th>\n",
       "      <th>id</th>\n",
       "      <th>title</th>\n",
       "      <th>url</th>\n",
       "      <th>num_points</th>\n",
       "      <th>num_comments</th>\n",
       "      <th>author</th>\n",
       "      <th>created_at</th>\n",
       "    </tr>\n",
       "  </thead>\n",
       "  <tbody>\n",
       "    <tr>\n",
       "      <th>0</th>\n",
       "      <td>12579008</td>\n",
       "      <td>You have two days to comment if you want stem ...</td>\n",
       "      <td>http://www.regulations.gov/document?D=FDA-2015...</td>\n",
       "      <td>1</td>\n",
       "      <td>0</td>\n",
       "      <td>altstar</td>\n",
       "      <td>9/26/2016 3:26</td>\n",
       "    </tr>\n",
       "    <tr>\n",
       "      <th>1</th>\n",
       "      <td>12579005</td>\n",
       "      <td>SQLAR  the SQLite Archiver</td>\n",
       "      <td>https://www.sqlite.org/sqlar/doc/trunk/README.md</td>\n",
       "      <td>1</td>\n",
       "      <td>0</td>\n",
       "      <td>blacksqr</td>\n",
       "      <td>9/26/2016 3:24</td>\n",
       "    </tr>\n",
       "    <tr>\n",
       "      <th>2</th>\n",
       "      <td>12578997</td>\n",
       "      <td>What if we just printed a flatscreen televisio...</td>\n",
       "      <td>https://medium.com/vanmoof/our-secrets-out-f21...</td>\n",
       "      <td>1</td>\n",
       "      <td>0</td>\n",
       "      <td>pavel_lishin</td>\n",
       "      <td>9/26/2016 3:19</td>\n",
       "    </tr>\n",
       "    <tr>\n",
       "      <th>3</th>\n",
       "      <td>12578989</td>\n",
       "      <td>algorithmic music</td>\n",
       "      <td>http://cacm.acm.org/magazines/2011/7/109891-al...</td>\n",
       "      <td>1</td>\n",
       "      <td>0</td>\n",
       "      <td>poindontcare</td>\n",
       "      <td>9/26/2016 3:16</td>\n",
       "    </tr>\n",
       "    <tr>\n",
       "      <th>4</th>\n",
       "      <td>12578979</td>\n",
       "      <td>How the Data Vault Enables the Next-Gen Data W...</td>\n",
       "      <td>https://www.talend.com/blog/2016/05/12/talend-...</td>\n",
       "      <td>1</td>\n",
       "      <td>0</td>\n",
       "      <td>markgainor1</td>\n",
       "      <td>9/26/2016 3:14</td>\n",
       "    </tr>\n",
       "  </tbody>\n",
       "</table>\n",
       "</div>"
      ],
      "text/plain": [
       "         id                                              title  \\\n",
       "0  12579008  You have two days to comment if you want stem ...   \n",
       "1  12579005                         SQLAR  the SQLite Archiver   \n",
       "2  12578997  What if we just printed a flatscreen televisio...   \n",
       "3  12578989                                  algorithmic music   \n",
       "4  12578979  How the Data Vault Enables the Next-Gen Data W...   \n",
       "\n",
       "                                                 url  num_points  \\\n",
       "0  http://www.regulations.gov/document?D=FDA-2015...           1   \n",
       "1   https://www.sqlite.org/sqlar/doc/trunk/README.md           1   \n",
       "2  https://medium.com/vanmoof/our-secrets-out-f21...           1   \n",
       "3  http://cacm.acm.org/magazines/2011/7/109891-al...           1   \n",
       "4  https://www.talend.com/blog/2016/05/12/talend-...           1   \n",
       "\n",
       "   num_comments        author      created_at  \n",
       "0             0       altstar  9/26/2016 3:26  \n",
       "1             0      blacksqr  9/26/2016 3:24  \n",
       "2             0  pavel_lishin  9/26/2016 3:19  \n",
       "3             0  poindontcare  9/26/2016 3:16  \n",
       "4             0   markgainor1  9/26/2016 3:14  "
      ]
     },
     "execution_count": 2,
     "metadata": {},
     "output_type": "execute_result"
    }
   ],
   "source": [
    "directory = 'C:/Personal Projects/Dataquest/Python Project/Hackers News/'\n",
    "df = pd.read_csv(directory + 'HN_posts_year_to_Sep_26_2016.csv')\n",
    "df.head()"
   ]
  },
  {
   "cell_type": "code",
   "execution_count": 3,
   "id": "95fa69f9",
   "metadata": {
    "scrolled": true
   },
   "outputs": [
    {
     "data": {
      "text/html": [
       "<div>\n",
       "<style scoped>\n",
       "    .dataframe tbody tr th:only-of-type {\n",
       "        vertical-align: middle;\n",
       "    }\n",
       "\n",
       "    .dataframe tbody tr th {\n",
       "        vertical-align: top;\n",
       "    }\n",
       "\n",
       "    .dataframe thead th {\n",
       "        text-align: right;\n",
       "    }\n",
       "</style>\n",
       "<table border=\"1\" class=\"dataframe\">\n",
       "  <thead>\n",
       "    <tr style=\"text-align: right;\">\n",
       "      <th></th>\n",
       "      <th>id</th>\n",
       "      <th>title</th>\n",
       "      <th>url</th>\n",
       "      <th>num_points</th>\n",
       "      <th>num_comments</th>\n",
       "      <th>author</th>\n",
       "      <th>created_at</th>\n",
       "    </tr>\n",
       "  </thead>\n",
       "  <tbody>\n",
       "    <tr>\n",
       "      <th>293114</th>\n",
       "      <td>10176919</td>\n",
       "      <td>Ask HN: What is/are your favorite quote(s)?</td>\n",
       "      <td>NaN</td>\n",
       "      <td>15</td>\n",
       "      <td>20</td>\n",
       "      <td>kumarski</td>\n",
       "      <td>9/6/2015 6:02</td>\n",
       "    </tr>\n",
       "    <tr>\n",
       "      <th>293115</th>\n",
       "      <td>10176917</td>\n",
       "      <td>Attention and awareness in stage magic: turnin...</td>\n",
       "      <td>http://people.cs.uchicago.edu/~luitien/nrn2473...</td>\n",
       "      <td>14</td>\n",
       "      <td>0</td>\n",
       "      <td>stakent</td>\n",
       "      <td>9/6/2015 6:01</td>\n",
       "    </tr>\n",
       "    <tr>\n",
       "      <th>293116</th>\n",
       "      <td>10176908</td>\n",
       "      <td>Dying vets fuck you letter (2013)</td>\n",
       "      <td>http://dangerousminds.net/comments/dying_vets_...</td>\n",
       "      <td>10</td>\n",
       "      <td>2</td>\n",
       "      <td>mycodebreaks</td>\n",
       "      <td>9/6/2015 5:56</td>\n",
       "    </tr>\n",
       "    <tr>\n",
       "      <th>293117</th>\n",
       "      <td>10176907</td>\n",
       "      <td>PHP 7 Coolest Features: Space Ships, Type Hint...</td>\n",
       "      <td>https://www.zend.com/en/resources/php-7</td>\n",
       "      <td>2</td>\n",
       "      <td>0</td>\n",
       "      <td>Garbage</td>\n",
       "      <td>9/6/2015 5:55</td>\n",
       "    </tr>\n",
       "    <tr>\n",
       "      <th>293118</th>\n",
       "      <td>10176903</td>\n",
       "      <td>Toyota Establishes Research Centers with MIT a...</td>\n",
       "      <td>http://newsroom.toyota.co.jp/en/detail/9233109/</td>\n",
       "      <td>4</td>\n",
       "      <td>0</td>\n",
       "      <td>tim_sw</td>\n",
       "      <td>9/6/2015 5:50</td>\n",
       "    </tr>\n",
       "  </tbody>\n",
       "</table>\n",
       "</div>"
      ],
      "text/plain": [
       "              id                                              title  \\\n",
       "293114  10176919        Ask HN: What is/are your favorite quote(s)?   \n",
       "293115  10176917  Attention and awareness in stage magic: turnin...   \n",
       "293116  10176908                  Dying vets fuck you letter (2013)   \n",
       "293117  10176907  PHP 7 Coolest Features: Space Ships, Type Hint...   \n",
       "293118  10176903  Toyota Establishes Research Centers with MIT a...   \n",
       "\n",
       "                                                      url  num_points  \\\n",
       "293114                                                NaN          15   \n",
       "293115  http://people.cs.uchicago.edu/~luitien/nrn2473...          14   \n",
       "293116  http://dangerousminds.net/comments/dying_vets_...          10   \n",
       "293117            https://www.zend.com/en/resources/php-7           2   \n",
       "293118    http://newsroom.toyota.co.jp/en/detail/9233109/           4   \n",
       "\n",
       "        num_comments        author     created_at  \n",
       "293114            20      kumarski  9/6/2015 6:02  \n",
       "293115             0       stakent  9/6/2015 6:01  \n",
       "293116             2  mycodebreaks  9/6/2015 5:56  \n",
       "293117             0       Garbage  9/6/2015 5:55  \n",
       "293118             0        tim_sw  9/6/2015 5:50  "
      ]
     },
     "execution_count": 3,
     "metadata": {},
     "output_type": "execute_result"
    }
   ],
   "source": [
    "df.tail()"
   ]
  },
  {
   "cell_type": "markdown",
   "id": "cd671ab4",
   "metadata": {},
   "source": [
    "## Data exploration"
   ]
  },
  {
   "cell_type": "code",
   "execution_count": 4,
   "id": "2f949743",
   "metadata": {},
   "outputs": [
    {
     "name": "stdout",
     "output_type": "stream",
     "text": [
      "<class 'pandas.core.frame.DataFrame'>\n",
      "RangeIndex: 293119 entries, 0 to 293118\n",
      "Data columns (total 7 columns):\n",
      " #   Column        Non-Null Count   Dtype \n",
      "---  ------        --------------   ----- \n",
      " 0   id            293119 non-null  int64 \n",
      " 1   title         293119 non-null  object\n",
      " 2   url           279256 non-null  object\n",
      " 3   num_points    293119 non-null  int64 \n",
      " 4   num_comments  293119 non-null  int64 \n",
      " 5   author        293119 non-null  object\n",
      " 6   created_at    293119 non-null  object\n",
      "dtypes: int64(3), object(4)\n",
      "memory usage: 15.7+ MB\n"
     ]
    }
   ],
   "source": [
    "df.info()"
   ]
  },
  {
   "cell_type": "code",
   "execution_count": 5,
   "id": "8154fbe2",
   "metadata": {},
   "outputs": [
    {
     "data": {
      "text/html": [
       "<div>\n",
       "<style scoped>\n",
       "    .dataframe tbody tr th:only-of-type {\n",
       "        vertical-align: middle;\n",
       "    }\n",
       "\n",
       "    .dataframe tbody tr th {\n",
       "        vertical-align: top;\n",
       "    }\n",
       "\n",
       "    .dataframe thead th {\n",
       "        text-align: right;\n",
       "    }\n",
       "</style>\n",
       "<table border=\"1\" class=\"dataframe\">\n",
       "  <thead>\n",
       "    <tr style=\"text-align: right;\">\n",
       "      <th></th>\n",
       "      <th>title</th>\n",
       "      <th>url</th>\n",
       "      <th>author</th>\n",
       "      <th>created_at</th>\n",
       "    </tr>\n",
       "  </thead>\n",
       "  <tbody>\n",
       "    <tr>\n",
       "      <th>count</th>\n",
       "      <td>293119</td>\n",
       "      <td>279256</td>\n",
       "      <td>293119</td>\n",
       "      <td>293119</td>\n",
       "    </tr>\n",
       "    <tr>\n",
       "      <th>unique</th>\n",
       "      <td>269452</td>\n",
       "      <td>247602</td>\n",
       "      <td>51900</td>\n",
       "      <td>215563</td>\n",
       "    </tr>\n",
       "    <tr>\n",
       "      <th>top</th>\n",
       "      <td>On the reception and detection of pseudo-profo...</td>\n",
       "      <td>http://www.aioptify.com/topmldmbooks.php?utm_s...</td>\n",
       "      <td>jonbaer</td>\n",
       "      <td>4/9/2016 22:40</td>\n",
       "    </tr>\n",
       "    <tr>\n",
       "      <th>freq</th>\n",
       "      <td>15</td>\n",
       "      <td>22</td>\n",
       "      <td>2731</td>\n",
       "      <td>11</td>\n",
       "    </tr>\n",
       "  </tbody>\n",
       "</table>\n",
       "</div>"
      ],
      "text/plain": [
       "                                                    title  \\\n",
       "count                                              293119   \n",
       "unique                                             269452   \n",
       "top     On the reception and detection of pseudo-profo...   \n",
       "freq                                                   15   \n",
       "\n",
       "                                                      url   author  \\\n",
       "count                                              279256   293119   \n",
       "unique                                             247602    51900   \n",
       "top     http://www.aioptify.com/topmldmbooks.php?utm_s...  jonbaer   \n",
       "freq                                                   22     2731   \n",
       "\n",
       "            created_at  \n",
       "count           293119  \n",
       "unique          215563  \n",
       "top     4/9/2016 22:40  \n",
       "freq                11  "
      ]
     },
     "execution_count": 5,
     "metadata": {},
     "output_type": "execute_result"
    }
   ],
   "source": [
    "df.describe(include='O')"
   ]
  },
  {
   "cell_type": "code",
   "execution_count": 6,
   "id": "9071c128",
   "metadata": {},
   "outputs": [
    {
     "data": {
      "text/plain": [
       "id               int64\n",
       "title           object\n",
       "url             object\n",
       "num_points       int64\n",
       "num_comments     int64\n",
       "author          object\n",
       "created_at      object\n",
       "dtype: object"
      ]
     },
     "execution_count": 6,
     "metadata": {},
     "output_type": "execute_result"
    }
   ],
   "source": [
    "df.dtypes"
   ]
  },
  {
   "cell_type": "code",
   "execution_count": 7,
   "id": "5b4c1f64",
   "metadata": {},
   "outputs": [
    {
     "data": {
      "text/plain": [
       "(293119, 7)"
      ]
     },
     "execution_count": 7,
     "metadata": {},
     "output_type": "execute_result"
    }
   ],
   "source": [
    "df.shape"
   ]
  },
  {
   "cell_type": "code",
   "execution_count": 8,
   "id": "acfa4389",
   "metadata": {},
   "outputs": [
    {
     "data": {
      "text/plain": [
       "Index(['id', 'title', 'url', 'num_points', 'num_comments', 'author',\n",
       "       'created_at'],\n",
       "      dtype='object')"
      ]
     },
     "execution_count": 8,
     "metadata": {},
     "output_type": "execute_result"
    }
   ],
   "source": [
    "df.columns"
   ]
  },
  {
   "cell_type": "code",
   "execution_count": 9,
   "id": "a8f6d217",
   "metadata": {},
   "outputs": [],
   "source": [
    "ask = df[df.title.str.lower().str.startswith('ask hn')]"
   ]
  },
  {
   "cell_type": "code",
   "execution_count": 10,
   "id": "4b8d053a",
   "metadata": {},
   "outputs": [],
   "source": [
    "show = df[df.title.str.lower().str.startswith('show hn')]"
   ]
  },
  {
   "cell_type": "code",
   "execution_count": 11,
   "id": "d6af8122",
   "metadata": {},
   "outputs": [],
   "source": [
    "askhn = df.title.str.lower().str.startswith('ask hn')\n",
    "showhn = df.title.str.lower().str.startswith('show hn')\n",
    "\n",
    "boolean = askhn & showhn\n",
    "\n",
    "other = df[~boolean]"
   ]
  },
  {
   "cell_type": "code",
   "execution_count": 12,
   "id": "6fa5fa47",
   "metadata": {},
   "outputs": [
    {
     "data": {
      "text/html": [
       "<div>\n",
       "<style scoped>\n",
       "    .dataframe tbody tr th:only-of-type {\n",
       "        vertical-align: middle;\n",
       "    }\n",
       "\n",
       "    .dataframe tbody tr th {\n",
       "        vertical-align: top;\n",
       "    }\n",
       "\n",
       "    .dataframe thead th {\n",
       "        text-align: right;\n",
       "    }\n",
       "</style>\n",
       "<table border=\"1\" class=\"dataframe\">\n",
       "  <thead>\n",
       "    <tr style=\"text-align: right;\">\n",
       "      <th></th>\n",
       "      <th>id</th>\n",
       "      <th>title</th>\n",
       "      <th>url</th>\n",
       "      <th>num_points</th>\n",
       "      <th>num_comments</th>\n",
       "      <th>author</th>\n",
       "      <th>created_at</th>\n",
       "    </tr>\n",
       "  </thead>\n",
       "  <tbody>\n",
       "    <tr>\n",
       "      <th>10</th>\n",
       "      <td>12578908</td>\n",
       "      <td>Ask HN: What TLD do you use for local developm...</td>\n",
       "      <td>NaN</td>\n",
       "      <td>4</td>\n",
       "      <td>7</td>\n",
       "      <td>Sevrene</td>\n",
       "      <td>9/26/2016 2:53</td>\n",
       "    </tr>\n",
       "    <tr>\n",
       "      <th>42</th>\n",
       "      <td>12578522</td>\n",
       "      <td>Ask HN: How do you pass on your work when you ...</td>\n",
       "      <td>NaN</td>\n",
       "      <td>6</td>\n",
       "      <td>3</td>\n",
       "      <td>PascLeRasc</td>\n",
       "      <td>9/26/2016 1:17</td>\n",
       "    </tr>\n",
       "    <tr>\n",
       "      <th>76</th>\n",
       "      <td>12577908</td>\n",
       "      <td>Ask HN: How a DNS problem can be limited to a ...</td>\n",
       "      <td>NaN</td>\n",
       "      <td>1</td>\n",
       "      <td>0</td>\n",
       "      <td>kuon</td>\n",
       "      <td>9/25/2016 22:57</td>\n",
       "    </tr>\n",
       "    <tr>\n",
       "      <th>80</th>\n",
       "      <td>12577870</td>\n",
       "      <td>Ask HN: Why join a fund when you can be an angel?</td>\n",
       "      <td>NaN</td>\n",
       "      <td>1</td>\n",
       "      <td>3</td>\n",
       "      <td>anthony_james</td>\n",
       "      <td>9/25/2016 22:48</td>\n",
       "    </tr>\n",
       "    <tr>\n",
       "      <th>102</th>\n",
       "      <td>12577647</td>\n",
       "      <td>Ask HN: Someone uses stock trading as passive ...</td>\n",
       "      <td>NaN</td>\n",
       "      <td>5</td>\n",
       "      <td>2</td>\n",
       "      <td>00taffe</td>\n",
       "      <td>9/25/2016 21:50</td>\n",
       "    </tr>\n",
       "  </tbody>\n",
       "</table>\n",
       "</div>"
      ],
      "text/plain": [
       "           id                                              title  url  \\\n",
       "10   12578908  Ask HN: What TLD do you use for local developm...  NaN   \n",
       "42   12578522  Ask HN: How do you pass on your work when you ...  NaN   \n",
       "76   12577908  Ask HN: How a DNS problem can be limited to a ...  NaN   \n",
       "80   12577870  Ask HN: Why join a fund when you can be an angel?  NaN   \n",
       "102  12577647  Ask HN: Someone uses stock trading as passive ...  NaN   \n",
       "\n",
       "     num_points  num_comments         author       created_at  \n",
       "10            4             7        Sevrene   9/26/2016 2:53  \n",
       "42            6             3     PascLeRasc   9/26/2016 1:17  \n",
       "76            1             0           kuon  9/25/2016 22:57  \n",
       "80            1             3  anthony_james  9/25/2016 22:48  \n",
       "102           5             2        00taffe  9/25/2016 21:50  "
      ]
     },
     "execution_count": 12,
     "metadata": {},
     "output_type": "execute_result"
    }
   ],
   "source": [
    "ask.head()"
   ]
  },
  {
   "cell_type": "code",
   "execution_count": 13,
   "id": "b989ab04",
   "metadata": {},
   "outputs": [
    {
     "data": {
      "text/html": [
       "<div>\n",
       "<style scoped>\n",
       "    .dataframe tbody tr th:only-of-type {\n",
       "        vertical-align: middle;\n",
       "    }\n",
       "\n",
       "    .dataframe tbody tr th {\n",
       "        vertical-align: top;\n",
       "    }\n",
       "\n",
       "    .dataframe thead th {\n",
       "        text-align: right;\n",
       "    }\n",
       "</style>\n",
       "<table border=\"1\" class=\"dataframe\">\n",
       "  <thead>\n",
       "    <tr style=\"text-align: right;\">\n",
       "      <th></th>\n",
       "      <th>id</th>\n",
       "      <th>title</th>\n",
       "      <th>url</th>\n",
       "      <th>num_points</th>\n",
       "      <th>num_comments</th>\n",
       "      <th>author</th>\n",
       "      <th>created_at</th>\n",
       "    </tr>\n",
       "  </thead>\n",
       "  <tbody>\n",
       "    <tr>\n",
       "      <th>52</th>\n",
       "      <td>12578335</td>\n",
       "      <td>Show HN: Finding puns computationally</td>\n",
       "      <td>http://puns.samueltaylor.org/</td>\n",
       "      <td>2</td>\n",
       "      <td>0</td>\n",
       "      <td>saamm</td>\n",
       "      <td>9/26/2016 0:36</td>\n",
       "    </tr>\n",
       "    <tr>\n",
       "      <th>58</th>\n",
       "      <td>12578182</td>\n",
       "      <td>Show HN: A simple library for complicated anim...</td>\n",
       "      <td>https://christinecha.github.io/choreographer-js/</td>\n",
       "      <td>1</td>\n",
       "      <td>0</td>\n",
       "      <td>christinecha</td>\n",
       "      <td>9/26/2016 0:01</td>\n",
       "    </tr>\n",
       "    <tr>\n",
       "      <th>64</th>\n",
       "      <td>12578098</td>\n",
       "      <td>Show HN: WebGL visualization of DNA sequences</td>\n",
       "      <td>http://grondilu.github.io/dna.html</td>\n",
       "      <td>1</td>\n",
       "      <td>0</td>\n",
       "      <td>grondilu</td>\n",
       "      <td>9/25/2016 23:44</td>\n",
       "    </tr>\n",
       "    <tr>\n",
       "      <th>70</th>\n",
       "      <td>12577991</td>\n",
       "      <td>Show HN: Pomodoro-centric, heirarchical projec...</td>\n",
       "      <td>https://github.com/jakebian/zeal</td>\n",
       "      <td>2</td>\n",
       "      <td>0</td>\n",
       "      <td>dbranes</td>\n",
       "      <td>9/25/2016 23:17</td>\n",
       "    </tr>\n",
       "    <tr>\n",
       "      <th>140</th>\n",
       "      <td>12577142</td>\n",
       "      <td>Show HN: Jumble  Essays on the go #PaulInYourP...</td>\n",
       "      <td>https://itunes.apple.com/us/app/jumble-find-st...</td>\n",
       "      <td>1</td>\n",
       "      <td>1</td>\n",
       "      <td>ryderj</td>\n",
       "      <td>9/25/2016 20:06</td>\n",
       "    </tr>\n",
       "  </tbody>\n",
       "</table>\n",
       "</div>"
      ],
      "text/plain": [
       "           id                                              title  \\\n",
       "52   12578335              Show HN: Finding puns computationally   \n",
       "58   12578182  Show HN: A simple library for complicated anim...   \n",
       "64   12578098      Show HN: WebGL visualization of DNA sequences   \n",
       "70   12577991  Show HN: Pomodoro-centric, heirarchical projec...   \n",
       "140  12577142  Show HN: Jumble  Essays on the go #PaulInYourP...   \n",
       "\n",
       "                                                   url  num_points  \\\n",
       "52                       http://puns.samueltaylor.org/           2   \n",
       "58    https://christinecha.github.io/choreographer-js/           1   \n",
       "64                  http://grondilu.github.io/dna.html           1   \n",
       "70                    https://github.com/jakebian/zeal           2   \n",
       "140  https://itunes.apple.com/us/app/jumble-find-st...           1   \n",
       "\n",
       "     num_comments        author       created_at  \n",
       "52              0         saamm   9/26/2016 0:36  \n",
       "58              0  christinecha   9/26/2016 0:01  \n",
       "64              0      grondilu  9/25/2016 23:44  \n",
       "70              0       dbranes  9/25/2016 23:17  \n",
       "140             1        ryderj  9/25/2016 20:06  "
      ]
     },
     "execution_count": 13,
     "metadata": {},
     "output_type": "execute_result"
    }
   ],
   "source": [
    "show.head()"
   ]
  },
  {
   "cell_type": "code",
   "execution_count": 14,
   "id": "69d3a2e9",
   "metadata": {},
   "outputs": [
    {
     "data": {
      "text/html": [
       "<div>\n",
       "<style scoped>\n",
       "    .dataframe tbody tr th:only-of-type {\n",
       "        vertical-align: middle;\n",
       "    }\n",
       "\n",
       "    .dataframe tbody tr th {\n",
       "        vertical-align: top;\n",
       "    }\n",
       "\n",
       "    .dataframe thead th {\n",
       "        text-align: right;\n",
       "    }\n",
       "</style>\n",
       "<table border=\"1\" class=\"dataframe\">\n",
       "  <thead>\n",
       "    <tr style=\"text-align: right;\">\n",
       "      <th></th>\n",
       "      <th>id</th>\n",
       "      <th>title</th>\n",
       "      <th>url</th>\n",
       "      <th>num_points</th>\n",
       "      <th>num_comments</th>\n",
       "      <th>author</th>\n",
       "      <th>created_at</th>\n",
       "    </tr>\n",
       "  </thead>\n",
       "  <tbody>\n",
       "    <tr>\n",
       "      <th>0</th>\n",
       "      <td>12579008</td>\n",
       "      <td>You have two days to comment if you want stem ...</td>\n",
       "      <td>http://www.regulations.gov/document?D=FDA-2015...</td>\n",
       "      <td>1</td>\n",
       "      <td>0</td>\n",
       "      <td>altstar</td>\n",
       "      <td>9/26/2016 3:26</td>\n",
       "    </tr>\n",
       "    <tr>\n",
       "      <th>1</th>\n",
       "      <td>12579005</td>\n",
       "      <td>SQLAR  the SQLite Archiver</td>\n",
       "      <td>https://www.sqlite.org/sqlar/doc/trunk/README.md</td>\n",
       "      <td>1</td>\n",
       "      <td>0</td>\n",
       "      <td>blacksqr</td>\n",
       "      <td>9/26/2016 3:24</td>\n",
       "    </tr>\n",
       "    <tr>\n",
       "      <th>2</th>\n",
       "      <td>12578997</td>\n",
       "      <td>What if we just printed a flatscreen televisio...</td>\n",
       "      <td>https://medium.com/vanmoof/our-secrets-out-f21...</td>\n",
       "      <td>1</td>\n",
       "      <td>0</td>\n",
       "      <td>pavel_lishin</td>\n",
       "      <td>9/26/2016 3:19</td>\n",
       "    </tr>\n",
       "    <tr>\n",
       "      <th>3</th>\n",
       "      <td>12578989</td>\n",
       "      <td>algorithmic music</td>\n",
       "      <td>http://cacm.acm.org/magazines/2011/7/109891-al...</td>\n",
       "      <td>1</td>\n",
       "      <td>0</td>\n",
       "      <td>poindontcare</td>\n",
       "      <td>9/26/2016 3:16</td>\n",
       "    </tr>\n",
       "    <tr>\n",
       "      <th>4</th>\n",
       "      <td>12578979</td>\n",
       "      <td>How the Data Vault Enables the Next-Gen Data W...</td>\n",
       "      <td>https://www.talend.com/blog/2016/05/12/talend-...</td>\n",
       "      <td>1</td>\n",
       "      <td>0</td>\n",
       "      <td>markgainor1</td>\n",
       "      <td>9/26/2016 3:14</td>\n",
       "    </tr>\n",
       "  </tbody>\n",
       "</table>\n",
       "</div>"
      ],
      "text/plain": [
       "         id                                              title  \\\n",
       "0  12579008  You have two days to comment if you want stem ...   \n",
       "1  12579005                         SQLAR  the SQLite Archiver   \n",
       "2  12578997  What if we just printed a flatscreen televisio...   \n",
       "3  12578989                                  algorithmic music   \n",
       "4  12578979  How the Data Vault Enables the Next-Gen Data W...   \n",
       "\n",
       "                                                 url  num_points  \\\n",
       "0  http://www.regulations.gov/document?D=FDA-2015...           1   \n",
       "1   https://www.sqlite.org/sqlar/doc/trunk/README.md           1   \n",
       "2  https://medium.com/vanmoof/our-secrets-out-f21...           1   \n",
       "3  http://cacm.acm.org/magazines/2011/7/109891-al...           1   \n",
       "4  https://www.talend.com/blog/2016/05/12/talend-...           1   \n",
       "\n",
       "   num_comments        author      created_at  \n",
       "0             0       altstar  9/26/2016 3:26  \n",
       "1             0      blacksqr  9/26/2016 3:24  \n",
       "2             0  pavel_lishin  9/26/2016 3:19  \n",
       "3             0  poindontcare  9/26/2016 3:16  \n",
       "4             0   markgainor1  9/26/2016 3:14  "
      ]
     },
     "execution_count": 14,
     "metadata": {},
     "output_type": "execute_result"
    }
   ],
   "source": [
    "other.head()"
   ]
  },
  {
   "cell_type": "markdown",
   "id": "e501f7cb",
   "metadata": {},
   "source": [
    "## Data Analysis"
   ]
  },
  {
   "cell_type": "markdown",
   "id": "bb4f7c1a",
   "metadata": {},
   "source": [
    "### Calculating the average number of comments for Ask and Show posts"
   ]
  },
  {
   "cell_type": "code",
   "execution_count": 15,
   "id": "939b9bce",
   "metadata": {},
   "outputs": [
    {
     "data": {
      "text/html": [
       "<div>\n",
       "<style scoped>\n",
       "    .dataframe tbody tr th:only-of-type {\n",
       "        vertical-align: middle;\n",
       "    }\n",
       "\n",
       "    .dataframe tbody tr th {\n",
       "        vertical-align: top;\n",
       "    }\n",
       "\n",
       "    .dataframe thead th {\n",
       "        text-align: right;\n",
       "    }\n",
       "</style>\n",
       "<table border=\"1\" class=\"dataframe\">\n",
       "  <thead>\n",
       "    <tr style=\"text-align: right;\">\n",
       "      <th></th>\n",
       "      <th>id</th>\n",
       "      <th>title</th>\n",
       "      <th>url</th>\n",
       "      <th>num_points</th>\n",
       "      <th>num_comments</th>\n",
       "      <th>author</th>\n",
       "      <th>created_at</th>\n",
       "    </tr>\n",
       "  </thead>\n",
       "  <tbody>\n",
       "    <tr>\n",
       "      <th>10</th>\n",
       "      <td>12578908</td>\n",
       "      <td>Ask HN: What TLD do you use for local developm...</td>\n",
       "      <td>NaN</td>\n",
       "      <td>4</td>\n",
       "      <td>7</td>\n",
       "      <td>Sevrene</td>\n",
       "      <td>9/26/2016 2:53</td>\n",
       "    </tr>\n",
       "    <tr>\n",
       "      <th>42</th>\n",
       "      <td>12578522</td>\n",
       "      <td>Ask HN: How do you pass on your work when you ...</td>\n",
       "      <td>NaN</td>\n",
       "      <td>6</td>\n",
       "      <td>3</td>\n",
       "      <td>PascLeRasc</td>\n",
       "      <td>9/26/2016 1:17</td>\n",
       "    </tr>\n",
       "    <tr>\n",
       "      <th>76</th>\n",
       "      <td>12577908</td>\n",
       "      <td>Ask HN: How a DNS problem can be limited to a ...</td>\n",
       "      <td>NaN</td>\n",
       "      <td>1</td>\n",
       "      <td>0</td>\n",
       "      <td>kuon</td>\n",
       "      <td>9/25/2016 22:57</td>\n",
       "    </tr>\n",
       "    <tr>\n",
       "      <th>80</th>\n",
       "      <td>12577870</td>\n",
       "      <td>Ask HN: Why join a fund when you can be an angel?</td>\n",
       "      <td>NaN</td>\n",
       "      <td>1</td>\n",
       "      <td>3</td>\n",
       "      <td>anthony_james</td>\n",
       "      <td>9/25/2016 22:48</td>\n",
       "    </tr>\n",
       "    <tr>\n",
       "      <th>102</th>\n",
       "      <td>12577647</td>\n",
       "      <td>Ask HN: Someone uses stock trading as passive ...</td>\n",
       "      <td>NaN</td>\n",
       "      <td>5</td>\n",
       "      <td>2</td>\n",
       "      <td>00taffe</td>\n",
       "      <td>9/25/2016 21:50</td>\n",
       "    </tr>\n",
       "    <tr>\n",
       "      <th>...</th>\n",
       "      <td>...</td>\n",
       "      <td>...</td>\n",
       "      <td>...</td>\n",
       "      <td>...</td>\n",
       "      <td>...</td>\n",
       "      <td>...</td>\n",
       "      <td>...</td>\n",
       "    </tr>\n",
       "    <tr>\n",
       "      <th>293047</th>\n",
       "      <td>10177359</td>\n",
       "      <td>Ask HN: Is coursera specialization in product ...</td>\n",
       "      <td>NaN</td>\n",
       "      <td>1</td>\n",
       "      <td>0</td>\n",
       "      <td>pipipzz</td>\n",
       "      <td>9/6/2015 11:27</td>\n",
       "    </tr>\n",
       "    <tr>\n",
       "      <th>293052</th>\n",
       "      <td>10177317</td>\n",
       "      <td>Ask HN: Any meteor devs out there who could sp...</td>\n",
       "      <td>NaN</td>\n",
       "      <td>2</td>\n",
       "      <td>1</td>\n",
       "      <td>louisswiss</td>\n",
       "      <td>9/6/2015 10:52</td>\n",
       "    </tr>\n",
       "    <tr>\n",
       "      <th>293055</th>\n",
       "      <td>10177309</td>\n",
       "      <td>Ask HN: Any recommendations for books about ra...</td>\n",
       "      <td>NaN</td>\n",
       "      <td>2</td>\n",
       "      <td>4</td>\n",
       "      <td>rationalthrowa</td>\n",
       "      <td>9/6/2015 10:46</td>\n",
       "    </tr>\n",
       "    <tr>\n",
       "      <th>293073</th>\n",
       "      <td>10177200</td>\n",
       "      <td>Ask HN: Where do you look for work if you need...</td>\n",
       "      <td>NaN</td>\n",
       "      <td>14</td>\n",
       "      <td>20</td>\n",
       "      <td>coroutines</td>\n",
       "      <td>9/6/2015 9:36</td>\n",
       "    </tr>\n",
       "    <tr>\n",
       "      <th>293114</th>\n",
       "      <td>10176919</td>\n",
       "      <td>Ask HN: What is/are your favorite quote(s)?</td>\n",
       "      <td>NaN</td>\n",
       "      <td>15</td>\n",
       "      <td>20</td>\n",
       "      <td>kumarski</td>\n",
       "      <td>9/6/2015 6:02</td>\n",
       "    </tr>\n",
       "  </tbody>\n",
       "</table>\n",
       "<p>9139 rows × 7 columns</p>\n",
       "</div>"
      ],
      "text/plain": [
       "              id                                              title  url  \\\n",
       "10      12578908  Ask HN: What TLD do you use for local developm...  NaN   \n",
       "42      12578522  Ask HN: How do you pass on your work when you ...  NaN   \n",
       "76      12577908  Ask HN: How a DNS problem can be limited to a ...  NaN   \n",
       "80      12577870  Ask HN: Why join a fund when you can be an angel?  NaN   \n",
       "102     12577647  Ask HN: Someone uses stock trading as passive ...  NaN   \n",
       "...          ...                                                ...  ...   \n",
       "293047  10177359  Ask HN: Is coursera specialization in product ...  NaN   \n",
       "293052  10177317  Ask HN: Any meteor devs out there who could sp...  NaN   \n",
       "293055  10177309  Ask HN: Any recommendations for books about ra...  NaN   \n",
       "293073  10177200  Ask HN: Where do you look for work if you need...  NaN   \n",
       "293114  10176919        Ask HN: What is/are your favorite quote(s)?  NaN   \n",
       "\n",
       "        num_points  num_comments          author       created_at  \n",
       "10               4             7         Sevrene   9/26/2016 2:53  \n",
       "42               6             3      PascLeRasc   9/26/2016 1:17  \n",
       "76               1             0            kuon  9/25/2016 22:57  \n",
       "80               1             3   anthony_james  9/25/2016 22:48  \n",
       "102              5             2         00taffe  9/25/2016 21:50  \n",
       "...            ...           ...             ...              ...  \n",
       "293047           1             0         pipipzz   9/6/2015 11:27  \n",
       "293052           2             1      louisswiss   9/6/2015 10:52  \n",
       "293055           2             4  rationalthrowa   9/6/2015 10:46  \n",
       "293073          14            20      coroutines    9/6/2015 9:36  \n",
       "293114          15            20        kumarski    9/6/2015 6:02  \n",
       "\n",
       "[9139 rows x 7 columns]"
      ]
     },
     "execution_count": 15,
     "metadata": {},
     "output_type": "execute_result"
    }
   ],
   "source": [
    "ask"
   ]
  },
  {
   "cell_type": "code",
   "execution_count": 16,
   "id": "8ccc90d2",
   "metadata": {
    "scrolled": true
   },
   "outputs": [],
   "source": [
    "total_ask_comments = ask.num_comments.sum()"
   ]
  },
  {
   "cell_type": "code",
   "execution_count": 17,
   "id": "e51ebd0c",
   "metadata": {},
   "outputs": [
    {
     "data": {
      "text/plain": [
       "94986"
      ]
     },
     "execution_count": 17,
     "metadata": {},
     "output_type": "execute_result"
    }
   ],
   "source": [
    "total_ask_comments"
   ]
  },
  {
   "cell_type": "code",
   "execution_count": 18,
   "id": "75e04492",
   "metadata": {},
   "outputs": [],
   "source": [
    " avg_ask_comments = total_ask_comments // ask.shape[0]"
   ]
  },
  {
   "cell_type": "code",
   "execution_count": 19,
   "id": "44b6c910",
   "metadata": {},
   "outputs": [
    {
     "data": {
      "text/plain": [
       "10"
      ]
     },
     "execution_count": 19,
     "metadata": {},
     "output_type": "execute_result"
    }
   ],
   "source": [
    "avg_ask_comments"
   ]
  },
  {
   "cell_type": "code",
   "execution_count": 20,
   "id": "d189167d",
   "metadata": {},
   "outputs": [],
   "source": [
    "total_show_comments = show.num_comments.sum()"
   ]
  },
  {
   "cell_type": "code",
   "execution_count": 21,
   "id": "53708141",
   "metadata": {},
   "outputs": [
    {
     "data": {
      "text/plain": [
       "49633"
      ]
     },
     "execution_count": 21,
     "metadata": {},
     "output_type": "execute_result"
    }
   ],
   "source": [
    "total_show_comments"
   ]
  },
  {
   "cell_type": "code",
   "execution_count": 22,
   "id": "47728ef1",
   "metadata": {},
   "outputs": [],
   "source": [
    "avg_show_comments = total_show_comments // show.shape[0]"
   ]
  },
  {
   "cell_type": "code",
   "execution_count": 23,
   "id": "889f2952",
   "metadata": {},
   "outputs": [
    {
     "data": {
      "text/plain": [
       "4"
      ]
     },
     "execution_count": 23,
     "metadata": {},
     "output_type": "execute_result"
    }
   ],
   "source": [
    "avg_show_comments"
   ]
  },
  {
   "cell_type": "markdown",
   "id": "56aa78dd",
   "metadata": {},
   "source": [
    "- It looks like ask posts tend to receive more comments on average. However, there are more ask posts than show posts"
   ]
  },
  {
   "cell_type": "code",
   "execution_count": 24,
   "id": "a1e5e661",
   "metadata": {},
   "outputs": [
    {
     "data": {
      "text/html": [
       "<div>\n",
       "<style scoped>\n",
       "    .dataframe tbody tr th:only-of-type {\n",
       "        vertical-align: middle;\n",
       "    }\n",
       "\n",
       "    .dataframe tbody tr th {\n",
       "        vertical-align: top;\n",
       "    }\n",
       "\n",
       "    .dataframe thead th {\n",
       "        text-align: right;\n",
       "    }\n",
       "</style>\n",
       "<table border=\"1\" class=\"dataframe\">\n",
       "  <thead>\n",
       "    <tr style=\"text-align: right;\">\n",
       "      <th></th>\n",
       "      <th>id</th>\n",
       "      <th>title</th>\n",
       "      <th>url</th>\n",
       "      <th>num_points</th>\n",
       "      <th>num_comments</th>\n",
       "      <th>author</th>\n",
       "      <th>created_at</th>\n",
       "    </tr>\n",
       "  </thead>\n",
       "  <tbody>\n",
       "    <tr>\n",
       "      <th>10</th>\n",
       "      <td>12578908</td>\n",
       "      <td>Ask HN: What TLD do you use for local developm...</td>\n",
       "      <td>NaN</td>\n",
       "      <td>4</td>\n",
       "      <td>7</td>\n",
       "      <td>Sevrene</td>\n",
       "      <td>9/26/2016 2:53</td>\n",
       "    </tr>\n",
       "    <tr>\n",
       "      <th>42</th>\n",
       "      <td>12578522</td>\n",
       "      <td>Ask HN: How do you pass on your work when you ...</td>\n",
       "      <td>NaN</td>\n",
       "      <td>6</td>\n",
       "      <td>3</td>\n",
       "      <td>PascLeRasc</td>\n",
       "      <td>9/26/2016 1:17</td>\n",
       "    </tr>\n",
       "    <tr>\n",
       "      <th>76</th>\n",
       "      <td>12577908</td>\n",
       "      <td>Ask HN: How a DNS problem can be limited to a ...</td>\n",
       "      <td>NaN</td>\n",
       "      <td>1</td>\n",
       "      <td>0</td>\n",
       "      <td>kuon</td>\n",
       "      <td>9/25/2016 22:57</td>\n",
       "    </tr>\n",
       "    <tr>\n",
       "      <th>80</th>\n",
       "      <td>12577870</td>\n",
       "      <td>Ask HN: Why join a fund when you can be an angel?</td>\n",
       "      <td>NaN</td>\n",
       "      <td>1</td>\n",
       "      <td>3</td>\n",
       "      <td>anthony_james</td>\n",
       "      <td>9/25/2016 22:48</td>\n",
       "    </tr>\n",
       "    <tr>\n",
       "      <th>102</th>\n",
       "      <td>12577647</td>\n",
       "      <td>Ask HN: Someone uses stock trading as passive ...</td>\n",
       "      <td>NaN</td>\n",
       "      <td>5</td>\n",
       "      <td>2</td>\n",
       "      <td>00taffe</td>\n",
       "      <td>9/25/2016 21:50</td>\n",
       "    </tr>\n",
       "    <tr>\n",
       "      <th>...</th>\n",
       "      <td>...</td>\n",
       "      <td>...</td>\n",
       "      <td>...</td>\n",
       "      <td>...</td>\n",
       "      <td>...</td>\n",
       "      <td>...</td>\n",
       "      <td>...</td>\n",
       "    </tr>\n",
       "    <tr>\n",
       "      <th>293047</th>\n",
       "      <td>10177359</td>\n",
       "      <td>Ask HN: Is coursera specialization in product ...</td>\n",
       "      <td>NaN</td>\n",
       "      <td>1</td>\n",
       "      <td>0</td>\n",
       "      <td>pipipzz</td>\n",
       "      <td>9/6/2015 11:27</td>\n",
       "    </tr>\n",
       "    <tr>\n",
       "      <th>293052</th>\n",
       "      <td>10177317</td>\n",
       "      <td>Ask HN: Any meteor devs out there who could sp...</td>\n",
       "      <td>NaN</td>\n",
       "      <td>2</td>\n",
       "      <td>1</td>\n",
       "      <td>louisswiss</td>\n",
       "      <td>9/6/2015 10:52</td>\n",
       "    </tr>\n",
       "    <tr>\n",
       "      <th>293055</th>\n",
       "      <td>10177309</td>\n",
       "      <td>Ask HN: Any recommendations for books about ra...</td>\n",
       "      <td>NaN</td>\n",
       "      <td>2</td>\n",
       "      <td>4</td>\n",
       "      <td>rationalthrowa</td>\n",
       "      <td>9/6/2015 10:46</td>\n",
       "    </tr>\n",
       "    <tr>\n",
       "      <th>293073</th>\n",
       "      <td>10177200</td>\n",
       "      <td>Ask HN: Where do you look for work if you need...</td>\n",
       "      <td>NaN</td>\n",
       "      <td>14</td>\n",
       "      <td>20</td>\n",
       "      <td>coroutines</td>\n",
       "      <td>9/6/2015 9:36</td>\n",
       "    </tr>\n",
       "    <tr>\n",
       "      <th>293114</th>\n",
       "      <td>10176919</td>\n",
       "      <td>Ask HN: What is/are your favorite quote(s)?</td>\n",
       "      <td>NaN</td>\n",
       "      <td>15</td>\n",
       "      <td>20</td>\n",
       "      <td>kumarski</td>\n",
       "      <td>9/6/2015 6:02</td>\n",
       "    </tr>\n",
       "  </tbody>\n",
       "</table>\n",
       "<p>9139 rows × 7 columns</p>\n",
       "</div>"
      ],
      "text/plain": [
       "              id                                              title  url  \\\n",
       "10      12578908  Ask HN: What TLD do you use for local developm...  NaN   \n",
       "42      12578522  Ask HN: How do you pass on your work when you ...  NaN   \n",
       "76      12577908  Ask HN: How a DNS problem can be limited to a ...  NaN   \n",
       "80      12577870  Ask HN: Why join a fund when you can be an angel?  NaN   \n",
       "102     12577647  Ask HN: Someone uses stock trading as passive ...  NaN   \n",
       "...          ...                                                ...  ...   \n",
       "293047  10177359  Ask HN: Is coursera specialization in product ...  NaN   \n",
       "293052  10177317  Ask HN: Any meteor devs out there who could sp...  NaN   \n",
       "293055  10177309  Ask HN: Any recommendations for books about ra...  NaN   \n",
       "293073  10177200  Ask HN: Where do you look for work if you need...  NaN   \n",
       "293114  10176919        Ask HN: What is/are your favorite quote(s)?  NaN   \n",
       "\n",
       "        num_points  num_comments          author       created_at  \n",
       "10               4             7         Sevrene   9/26/2016 2:53  \n",
       "42               6             3      PascLeRasc   9/26/2016 1:17  \n",
       "76               1             0            kuon  9/25/2016 22:57  \n",
       "80               1             3   anthony_james  9/25/2016 22:48  \n",
       "102              5             2         00taffe  9/25/2016 21:50  \n",
       "...            ...           ...             ...              ...  \n",
       "293047           1             0         pipipzz   9/6/2015 11:27  \n",
       "293052           2             1      louisswiss   9/6/2015 10:52  \n",
       "293055           2             4  rationalthrowa   9/6/2015 10:46  \n",
       "293073          14            20      coroutines    9/6/2015 9:36  \n",
       "293114          15            20        kumarski    9/6/2015 6:02  \n",
       "\n",
       "[9139 rows x 7 columns]"
      ]
     },
     "execution_count": 24,
     "metadata": {},
     "output_type": "execute_result"
    }
   ],
   "source": [
    "ask"
   ]
  },
  {
   "cell_type": "markdown",
   "id": "07d4dfd9",
   "metadata": {},
   "source": [
    "### Finding the Number of Ask Posts and Comments by Hour Created"
   ]
  },
  {
   "cell_type": "code",
   "execution_count": 25,
   "id": "d1d36a25",
   "metadata": {},
   "outputs": [
    {
     "name": "stderr",
     "output_type": "stream",
     "text": [
      "C:\\Users\\andya\\AppData\\Local\\Temp\\ipykernel_14184\\2475121389.py:1: SettingWithCopyWarning: \n",
      "A value is trying to be set on a copy of a slice from a DataFrame.\n",
      "Try using .loc[row_indexer,col_indexer] = value instead\n",
      "\n",
      "See the caveats in the documentation: https://pandas.pydata.org/pandas-docs/stable/user_guide/indexing.html#returning-a-view-versus-a-copy\n",
      "  ask.created_at = pd.to_datetime(ask.created_at)\n"
     ]
    }
   ],
   "source": [
    "ask.created_at = pd.to_datetime(ask.created_at)"
   ]
  },
  {
   "cell_type": "code",
   "execution_count": 26,
   "id": "c1ac03ca",
   "metadata": {},
   "outputs": [
    {
     "name": "stderr",
     "output_type": "stream",
     "text": [
      "C:\\Users\\andya\\AppData\\Local\\Temp\\ipykernel_14184\\3512703078.py:1: SettingWithCopyWarning: \n",
      "A value is trying to be set on a copy of a slice from a DataFrame.\n",
      "Try using .loc[row_indexer,col_indexer] = value instead\n",
      "\n",
      "See the caveats in the documentation: https://pandas.pydata.org/pandas-docs/stable/user_guide/indexing.html#returning-a-view-versus-a-copy\n",
      "  ask['created_hour'] = ask.created_at.dt.hour\n"
     ]
    }
   ],
   "source": [
    "ask['created_hour'] = ask.created_at.dt.hour"
   ]
  },
  {
   "cell_type": "code",
   "execution_count": 27,
   "id": "3450d265",
   "metadata": {},
   "outputs": [
    {
     "data": {
      "text/html": [
       "<div>\n",
       "<style scoped>\n",
       "    .dataframe tbody tr th:only-of-type {\n",
       "        vertical-align: middle;\n",
       "    }\n",
       "\n",
       "    .dataframe tbody tr th {\n",
       "        vertical-align: top;\n",
       "    }\n",
       "\n",
       "    .dataframe thead th {\n",
       "        text-align: right;\n",
       "    }\n",
       "</style>\n",
       "<table border=\"1\" class=\"dataframe\">\n",
       "  <thead>\n",
       "    <tr style=\"text-align: right;\">\n",
       "      <th></th>\n",
       "      <th>id</th>\n",
       "      <th>title</th>\n",
       "      <th>url</th>\n",
       "      <th>num_points</th>\n",
       "      <th>num_comments</th>\n",
       "      <th>author</th>\n",
       "      <th>created_at</th>\n",
       "      <th>created_hour</th>\n",
       "    </tr>\n",
       "  </thead>\n",
       "  <tbody>\n",
       "    <tr>\n",
       "      <th>10</th>\n",
       "      <td>12578908</td>\n",
       "      <td>Ask HN: What TLD do you use for local developm...</td>\n",
       "      <td>NaN</td>\n",
       "      <td>4</td>\n",
       "      <td>7</td>\n",
       "      <td>Sevrene</td>\n",
       "      <td>2016-09-26 02:53:00</td>\n",
       "      <td>2</td>\n",
       "    </tr>\n",
       "    <tr>\n",
       "      <th>42</th>\n",
       "      <td>12578522</td>\n",
       "      <td>Ask HN: How do you pass on your work when you ...</td>\n",
       "      <td>NaN</td>\n",
       "      <td>6</td>\n",
       "      <td>3</td>\n",
       "      <td>PascLeRasc</td>\n",
       "      <td>2016-09-26 01:17:00</td>\n",
       "      <td>1</td>\n",
       "    </tr>\n",
       "    <tr>\n",
       "      <th>76</th>\n",
       "      <td>12577908</td>\n",
       "      <td>Ask HN: How a DNS problem can be limited to a ...</td>\n",
       "      <td>NaN</td>\n",
       "      <td>1</td>\n",
       "      <td>0</td>\n",
       "      <td>kuon</td>\n",
       "      <td>2016-09-25 22:57:00</td>\n",
       "      <td>22</td>\n",
       "    </tr>\n",
       "    <tr>\n",
       "      <th>80</th>\n",
       "      <td>12577870</td>\n",
       "      <td>Ask HN: Why join a fund when you can be an angel?</td>\n",
       "      <td>NaN</td>\n",
       "      <td>1</td>\n",
       "      <td>3</td>\n",
       "      <td>anthony_james</td>\n",
       "      <td>2016-09-25 22:48:00</td>\n",
       "      <td>22</td>\n",
       "    </tr>\n",
       "    <tr>\n",
       "      <th>102</th>\n",
       "      <td>12577647</td>\n",
       "      <td>Ask HN: Someone uses stock trading as passive ...</td>\n",
       "      <td>NaN</td>\n",
       "      <td>5</td>\n",
       "      <td>2</td>\n",
       "      <td>00taffe</td>\n",
       "      <td>2016-09-25 21:50:00</td>\n",
       "      <td>21</td>\n",
       "    </tr>\n",
       "    <tr>\n",
       "      <th>...</th>\n",
       "      <td>...</td>\n",
       "      <td>...</td>\n",
       "      <td>...</td>\n",
       "      <td>...</td>\n",
       "      <td>...</td>\n",
       "      <td>...</td>\n",
       "      <td>...</td>\n",
       "      <td>...</td>\n",
       "    </tr>\n",
       "    <tr>\n",
       "      <th>293047</th>\n",
       "      <td>10177359</td>\n",
       "      <td>Ask HN: Is coursera specialization in product ...</td>\n",
       "      <td>NaN</td>\n",
       "      <td>1</td>\n",
       "      <td>0</td>\n",
       "      <td>pipipzz</td>\n",
       "      <td>2015-09-06 11:27:00</td>\n",
       "      <td>11</td>\n",
       "    </tr>\n",
       "    <tr>\n",
       "      <th>293052</th>\n",
       "      <td>10177317</td>\n",
       "      <td>Ask HN: Any meteor devs out there who could sp...</td>\n",
       "      <td>NaN</td>\n",
       "      <td>2</td>\n",
       "      <td>1</td>\n",
       "      <td>louisswiss</td>\n",
       "      <td>2015-09-06 10:52:00</td>\n",
       "      <td>10</td>\n",
       "    </tr>\n",
       "    <tr>\n",
       "      <th>293055</th>\n",
       "      <td>10177309</td>\n",
       "      <td>Ask HN: Any recommendations for books about ra...</td>\n",
       "      <td>NaN</td>\n",
       "      <td>2</td>\n",
       "      <td>4</td>\n",
       "      <td>rationalthrowa</td>\n",
       "      <td>2015-09-06 10:46:00</td>\n",
       "      <td>10</td>\n",
       "    </tr>\n",
       "    <tr>\n",
       "      <th>293073</th>\n",
       "      <td>10177200</td>\n",
       "      <td>Ask HN: Where do you look for work if you need...</td>\n",
       "      <td>NaN</td>\n",
       "      <td>14</td>\n",
       "      <td>20</td>\n",
       "      <td>coroutines</td>\n",
       "      <td>2015-09-06 09:36:00</td>\n",
       "      <td>9</td>\n",
       "    </tr>\n",
       "    <tr>\n",
       "      <th>293114</th>\n",
       "      <td>10176919</td>\n",
       "      <td>Ask HN: What is/are your favorite quote(s)?</td>\n",
       "      <td>NaN</td>\n",
       "      <td>15</td>\n",
       "      <td>20</td>\n",
       "      <td>kumarski</td>\n",
       "      <td>2015-09-06 06:02:00</td>\n",
       "      <td>6</td>\n",
       "    </tr>\n",
       "  </tbody>\n",
       "</table>\n",
       "<p>9139 rows × 8 columns</p>\n",
       "</div>"
      ],
      "text/plain": [
       "              id                                              title  url  \\\n",
       "10      12578908  Ask HN: What TLD do you use for local developm...  NaN   \n",
       "42      12578522  Ask HN: How do you pass on your work when you ...  NaN   \n",
       "76      12577908  Ask HN: How a DNS problem can be limited to a ...  NaN   \n",
       "80      12577870  Ask HN: Why join a fund when you can be an angel?  NaN   \n",
       "102     12577647  Ask HN: Someone uses stock trading as passive ...  NaN   \n",
       "...          ...                                                ...  ...   \n",
       "293047  10177359  Ask HN: Is coursera specialization in product ...  NaN   \n",
       "293052  10177317  Ask HN: Any meteor devs out there who could sp...  NaN   \n",
       "293055  10177309  Ask HN: Any recommendations for books about ra...  NaN   \n",
       "293073  10177200  Ask HN: Where do you look for work if you need...  NaN   \n",
       "293114  10176919        Ask HN: What is/are your favorite quote(s)?  NaN   \n",
       "\n",
       "        num_points  num_comments          author          created_at  \\\n",
       "10               4             7         Sevrene 2016-09-26 02:53:00   \n",
       "42               6             3      PascLeRasc 2016-09-26 01:17:00   \n",
       "76               1             0            kuon 2016-09-25 22:57:00   \n",
       "80               1             3   anthony_james 2016-09-25 22:48:00   \n",
       "102              5             2         00taffe 2016-09-25 21:50:00   \n",
       "...            ...           ...             ...                 ...   \n",
       "293047           1             0         pipipzz 2015-09-06 11:27:00   \n",
       "293052           2             1      louisswiss 2015-09-06 10:52:00   \n",
       "293055           2             4  rationalthrowa 2015-09-06 10:46:00   \n",
       "293073          14            20      coroutines 2015-09-06 09:36:00   \n",
       "293114          15            20        kumarski 2015-09-06 06:02:00   \n",
       "\n",
       "        created_hour  \n",
       "10                 2  \n",
       "42                 1  \n",
       "76                22  \n",
       "80                22  \n",
       "102               21  \n",
       "...              ...  \n",
       "293047            11  \n",
       "293052            10  \n",
       "293055            10  \n",
       "293073             9  \n",
       "293114             6  \n",
       "\n",
       "[9139 rows x 8 columns]"
      ]
     },
     "execution_count": 27,
     "metadata": {},
     "output_type": "execute_result"
    }
   ],
   "source": [
    "ask"
   ]
  },
  {
   "cell_type": "code",
   "execution_count": 28,
   "id": "332e761d",
   "metadata": {
    "scrolled": true
   },
   "outputs": [],
   "source": [
    "num_posts_by_hour = ask.groupby('created_hour')['title'].count()"
   ]
  },
  {
   "cell_type": "code",
   "execution_count": 29,
   "id": "77d312fb",
   "metadata": {
    "scrolled": true
   },
   "outputs": [],
   "source": [
    "num_commts_by_hour = ask.groupby('created_hour')['num_comments'].sum()"
   ]
  },
  {
   "cell_type": "markdown",
   "id": "fa942ba4",
   "metadata": {},
   "source": [
    "### Average Number of Comments for Ask HN Posts by Hour"
   ]
  },
  {
   "cell_type": "code",
   "execution_count": 30,
   "id": "539a630e",
   "metadata": {
    "scrolled": true
   },
   "outputs": [
    {
     "data": {
      "text/plain": [
       "created_hour\n",
       "0     301\n",
       "1     282\n",
       "2     269\n",
       "3     271\n",
       "4     243\n",
       "5     209\n",
       "6     234\n",
       "7     226\n",
       "8     257\n",
       "9     222\n",
       "10    282\n",
       "11    312\n",
       "12    342\n",
       "13    444\n",
       "14    513\n",
       "15    646\n",
       "16    579\n",
       "17    587\n",
       "18    614\n",
       "19    552\n",
       "20    510\n",
       "21    518\n",
       "22    383\n",
       "23    343\n",
       "Name: title, dtype: int64"
      ]
     },
     "execution_count": 30,
     "metadata": {},
     "output_type": "execute_result"
    }
   ],
   "source": [
    "num_posts_by_hour"
   ]
  },
  {
   "cell_type": "code",
   "execution_count": 31,
   "id": "4595c101",
   "metadata": {
    "scrolled": true
   },
   "outputs": [
    {
     "data": {
      "text/plain": [
       "created_hour\n",
       "0      2277\n",
       "1      2089\n",
       "2      2996\n",
       "3      2154\n",
       "4      2360\n",
       "5      1838\n",
       "6      1587\n",
       "7      1585\n",
       "8      2362\n",
       "9      1477\n",
       "10     3013\n",
       "11     2797\n",
       "12     4234\n",
       "13     7245\n",
       "14     4972\n",
       "15    18525\n",
       "16     4466\n",
       "17     5547\n",
       "18     4877\n",
       "19     3954\n",
       "20     4462\n",
       "21     4500\n",
       "22     3372\n",
       "23     2297\n",
       "Name: num_comments, dtype: int64"
      ]
     },
     "execution_count": 31,
     "metadata": {},
     "output_type": "execute_result"
    }
   ],
   "source": [
    "num_commts_by_hour"
   ]
  },
  {
   "cell_type": "code",
   "execution_count": 32,
   "id": "26d32c04",
   "metadata": {
    "scrolled": true
   },
   "outputs": [
    {
     "data": {
      "text/plain": [
       "created_hour\n",
       "0      7\n",
       "1      7\n",
       "2     11\n",
       "3      7\n",
       "4      9\n",
       "5      8\n",
       "6      6\n",
       "7      7\n",
       "8      9\n",
       "9      6\n",
       "10    10\n",
       "11     8\n",
       "12    12\n",
       "13    16\n",
       "14     9\n",
       "15    28\n",
       "16     7\n",
       "17     9\n",
       "18     7\n",
       "19     7\n",
       "20     8\n",
       "21     8\n",
       "22     8\n",
       "23     6\n",
       "dtype: int64"
      ]
     },
     "execution_count": 32,
     "metadata": {},
     "output_type": "execute_result"
    }
   ],
   "source": [
    "avg_num_commts_by_hour = num_commts_by_hour // num_posts_by_hour\n",
    "avg_num_commts_by_hour"
   ]
  },
  {
   "cell_type": "code",
   "execution_count": 33,
   "id": "102fee14",
   "metadata": {},
   "outputs": [
    {
     "data": {
      "text/plain": [
       "created_hour\n",
       "15    28\n",
       "13    16\n",
       "12    12\n",
       "2     11\n",
       "10    10\n",
       "dtype: int64"
      ]
     },
     "execution_count": 33,
     "metadata": {},
     "output_type": "execute_result"
    }
   ],
   "source": [
    "avg_num_commts_by_hour.sort_values(ascending=False)[:5]"
   ]
  },
  {
   "cell_type": "markdown",
   "id": "88eea521",
   "metadata": {},
   "source": [
    "- According to the result, if one wants to receive more comments, then it's better to post at the time of 15, 13, 12, 2, 10 "
   ]
  },
  {
   "cell_type": "markdown",
   "id": "4d01ee2c",
   "metadata": {},
   "source": [
    "### Determine if show or ask posts receive more points on average"
   ]
  },
  {
   "cell_type": "code",
   "execution_count": 34,
   "id": "0514e014",
   "metadata": {},
   "outputs": [
    {
     "data": {
      "text/plain": [
       "11"
      ]
     },
     "execution_count": 34,
     "metadata": {},
     "output_type": "execute_result"
    }
   ],
   "source": [
    "ask.num_points.sum() // ask.title.count()"
   ]
  },
  {
   "cell_type": "code",
   "execution_count": 35,
   "id": "8a515798",
   "metadata": {},
   "outputs": [
    {
     "data": {
      "text/plain": [
       "14"
      ]
     },
     "execution_count": 35,
     "metadata": {},
     "output_type": "execute_result"
    }
   ],
   "source": [
    "show.num_points.sum() // show.title.count()"
   ]
  },
  {
   "cell_type": "markdown",
   "id": "561f8bce",
   "metadata": {},
   "source": [
    "- With the fact that there was less show posts than ask posts, show posts received a lot more points in general.\n",
    "- It is better to post show posts in order to receive more points"
   ]
  },
  {
   "cell_type": "markdown",
   "id": "8dec7a84",
   "metadata": {},
   "source": [
    "### Determine if posts created at a certain time are more likely to receive more points"
   ]
  },
  {
   "cell_type": "code",
   "execution_count": 36,
   "id": "edd6a7bb",
   "metadata": {},
   "outputs": [
    {
     "name": "stderr",
     "output_type": "stream",
     "text": [
      "C:\\Users\\andya\\AppData\\Local\\Temp\\ipykernel_14184\\4134445054.py:1: SettingWithCopyWarning: \n",
      "A value is trying to be set on a copy of a slice from a DataFrame.\n",
      "Try using .loc[row_indexer,col_indexer] = value instead\n",
      "\n",
      "See the caveats in the documentation: https://pandas.pydata.org/pandas-docs/stable/user_guide/indexing.html#returning-a-view-versus-a-copy\n",
      "  show.created_at = pd.to_datetime(show.created_at)\n"
     ]
    }
   ],
   "source": [
    "show.created_at = pd.to_datetime(show.created_at)"
   ]
  },
  {
   "cell_type": "code",
   "execution_count": 37,
   "id": "becb2210",
   "metadata": {},
   "outputs": [
    {
     "name": "stderr",
     "output_type": "stream",
     "text": [
      "C:\\Users\\andya\\AppData\\Local\\Temp\\ipykernel_14184\\2052239432.py:1: SettingWithCopyWarning: \n",
      "A value is trying to be set on a copy of a slice from a DataFrame.\n",
      "Try using .loc[row_indexer,col_indexer] = value instead\n",
      "\n",
      "See the caveats in the documentation: https://pandas.pydata.org/pandas-docs/stable/user_guide/indexing.html#returning-a-view-versus-a-copy\n",
      "  show['created_hour'] = show.created_at.dt.hour\n"
     ]
    }
   ],
   "source": [
    "show['created_hour'] = show.created_at.dt.hour"
   ]
  },
  {
   "cell_type": "code",
   "execution_count": 41,
   "id": "b5b1c63d",
   "metadata": {
    "scrolled": true
   },
   "outputs": [
    {
     "data": {
      "text/plain": [
       "created_hour\n",
       "15    11657\n",
       "16    11487\n",
       "12    10787\n",
       "17    10563\n",
       "14    10503\n",
       "Name: num_points, dtype: int64"
      ]
     },
     "execution_count": 41,
     "metadata": {},
     "output_type": "execute_result"
    }
   ],
   "source": [
    "show.groupby('created_hour')['num_points'].sum().sort_values(ascending=False)[:5]"
   ]
  },
  {
   "cell_type": "markdown",
   "id": "d661d415",
   "metadata": {},
   "source": [
    "- At the time of 15,16,12,17,14, it is more likely to receive more points"
   ]
  }
 ],
 "metadata": {
  "kernelspec": {
   "display_name": "Python 3 (ipykernel)",
   "language": "python",
   "name": "python3"
  },
  "language_info": {
   "codemirror_mode": {
    "name": "ipython",
    "version": 3
   },
   "file_extension": ".py",
   "mimetype": "text/x-python",
   "name": "python",
   "nbconvert_exporter": "python",
   "pygments_lexer": "ipython3",
   "version": "3.11.5"
  }
 },
 "nbformat": 4,
 "nbformat_minor": 5
}
